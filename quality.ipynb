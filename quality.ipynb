{
 "cells": [
  {
   "cell_type": "code",
   "execution_count": 1,
   "metadata": {},
   "outputs": [
    {
     "name": "stdout",
     "output_type": "stream",
     "text": [
      "16000\n"
     ]
    }
   ],
   "source": [
    "# Pytorch2.1 is required\n",
    "# reference: https://pytorch.org/audio/main/generated/torchaudio.prototype.pipelines.SquimObjectiveBundle.html#torchaudio.prototype.pipelines.SquimObjectiveBundle\n",
    "\n",
    "import torch\n",
    "import torchaudio\n",
    "from torchaudio.prototype.pipelines import SQUIM_OBJECTIVE as bundle\n",
    "model = bundle.get_model()\n",
    "model = model.to(\"cuda\")\n",
    "print(bundle.sample_rate)"
   ]
  },
  {
   "cell_type": "code",
   "execution_count": 2,
   "metadata": {},
   "outputs": [],
   "source": [
    "def speech_quality(file):\n",
    "    wav, sr = torchaudio.load(str(file))\n",
    "    assert sr == bundle.sample_rate\n",
    "    with torch.no_grad():\n",
    "        out = model(wav.to(\"cuda\"))\n",
    "    stoi = out[0].item()\n",
    "    pesq = out[1].item()\n",
    "    sisdr = out[2].item()\n",
    "\n",
    "    return stoi, pesq, sisdr"
   ]
  },
  {
   "cell_type": "code",
   "execution_count": 3,
   "metadata": {},
   "outputs": [
    {
     "name": "stdout",
     "output_type": "stream",
     "text": [
      "(0.9978450536727905, 3.8907089233398438, 26.059673309326172)\n"
     ]
    }
   ],
   "source": [
    "file = \"test.wav\"\n",
    "print(speech_quality(file))"
   ]
  }
 ],
 "metadata": {
  "kernelspec": {
   "display_name": "pytorch2",
   "language": "python",
   "name": "python3"
  },
  "language_info": {
   "codemirror_mode": {
    "name": "ipython",
    "version": 3
   },
   "file_extension": ".py",
   "mimetype": "text/x-python",
   "name": "python",
   "nbconvert_exporter": "python",
   "pygments_lexer": "ipython3",
   "version": "3.9.7"
  },
  "orig_nbformat": 4
 },
 "nbformat": 4,
 "nbformat_minor": 2
}
